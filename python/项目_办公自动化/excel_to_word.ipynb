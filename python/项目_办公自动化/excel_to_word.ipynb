{
 "cells": [
  {
   "cell_type": "markdown",
   "metadata": {},
   "source": [
    "# 数据读取与处理"
   ]
  },
  {
   "cell_type": "code",
   "execution_count": 1,
   "metadata": {},
   "outputs": [],
   "source": [
    "import pandas as pd\n",
    "\n",
    "video_list = pd.read_excel('./data/video_list.xlsx')\n",
    "speech_text = pd.read_excel('./data/speech_text.xlsx')\n"
   ]
  },
  {
   "cell_type": "code",
   "execution_count": 2,
   "metadata": {},
   "outputs": [
    {
     "name": "stdout",
     "output_type": "stream",
     "text": [
      "<class 'pandas.core.frame.DataFrame'>\n",
      "RangeIndex: 73 entries, 0 to 72\n",
      "Data columns (total 9 columns):\n",
      " #   Column                Non-Null Count  Dtype \n",
      "---  ------                --------------  ----- \n",
      " 0   品牌                    73 non-null     object\n",
      " 1   AwemeId               73 non-null     object\n",
      " 2   AwemeDesc             73 non-null     object\n",
      " 3   AwemePubTime          73 non-null     object\n",
      " 4   BloggerName           73 non-null     object\n",
      " 5   BloggerPlatform_Fans  73 non-null     object\n",
      " 6   LikeCount             73 non-null     object\n",
      " 7   CommentCount          73 non-null     object\n",
      " 8   ShareCount            73 non-null     object\n",
      "dtypes: object(9)\n",
      "memory usage: 5.3+ KB\n"
     ]
    }
   ],
   "source": [
    "video_list['AwemeId'] = video_list['AwemeId'].astype(str)\n",
    "video_list.info()"
   ]
  },
  {
   "cell_type": "code",
   "execution_count": 3,
   "metadata": {},
   "outputs": [
    {
     "name": "stdout",
     "output_type": "stream",
     "text": [
      "<class 'pandas.core.frame.DataFrame'>\n",
      "RangeIndex: 73 entries, 0 to 72\n",
      "Data columns (total 4 columns):\n",
      " #   Column   Non-Null Count  Dtype \n",
      "---  ------   --------------  ----- \n",
      " 0   视频标题     73 non-null     object\n",
      " 1   视频时长     73 non-null     int64 \n",
      " 2   VideoId  73 non-null     object\n",
      " 3   视频文案     73 non-null     object\n",
      "dtypes: int64(1), object(3)\n",
      "memory usage: 2.4+ KB\n"
     ]
    }
   ],
   "source": [
    "speech_text['VideoId'] = speech_text['VideoId'].astype(str)\n",
    "speech_text.info()"
   ]
  },
  {
   "cell_type": "markdown",
   "metadata": {},
   "source": [
    "# 两表数据连接"
   ]
  },
  {
   "cell_type": "code",
   "execution_count": 4,
   "metadata": {},
   "outputs": [
    {
     "name": "stdout",
     "output_type": "stream",
     "text": [
      "<class 'pandas.core.frame.DataFrame'>\n",
      "Int64Index: 73 entries, 0 to 72\n",
      "Data columns (total 13 columns):\n",
      " #   Column                Non-Null Count  Dtype \n",
      "---  ------                --------------  ----- \n",
      " 0   品牌                    73 non-null     object\n",
      " 1   AwemeId               73 non-null     object\n",
      " 2   AwemeDesc             73 non-null     object\n",
      " 3   AwemePubTime          73 non-null     object\n",
      " 4   BloggerName           73 non-null     object\n",
      " 5   BloggerPlatform_Fans  73 non-null     object\n",
      " 6   LikeCount             73 non-null     object\n",
      " 7   CommentCount          73 non-null     object\n",
      " 8   ShareCount            73 non-null     object\n",
      " 9   视频标题                  73 non-null     object\n",
      " 10  视频时长                  73 non-null     int64 \n",
      " 11  VideoId               73 non-null     object\n",
      " 12  视频文案                  73 non-null     object\n",
      "dtypes: int64(1), object(12)\n",
      "memory usage: 8.0+ KB\n"
     ]
    }
   ],
   "source": [
    "merge_data = pd.merge(video_list, speech_text, how='inner', left_on='AwemeId', right_on='VideoId')\n",
    "\n",
    "merge_data.info()"
   ]
  },
  {
   "cell_type": "markdown",
   "metadata": {},
   "source": [
    "# 提取与处理"
   ]
  },
  {
   "cell_type": "code",
   "execution_count": 18,
   "metadata": {},
   "outputs": [],
   "source": [
    "from docx import Document\n",
    "import docx\n",
    "  \n",
    "\n",
    "def seconds_to_time(seconds): \n",
    "    m, s = divmod(seconds, 60)\n",
    "    h, m = divmod(m, 60)\n",
    "    return \"%02d小时%02d分钟%02d秒\" % (h, m, s)\n",
    "\n",
    "\n",
    "document = Document()\n",
    "pinpai_list = []\n",
    "title_list = []\n",
    "for i in range(merge_data.shape[0]):\n",
    "    pinpai = merge_data.iloc[i]['品牌']\n",
    "    title = merge_data.iloc[i]['视频标题'].split('_')[0]\n",
    "    BloggerName = merge_data.iloc[i]['BloggerName']\n",
    "    video_address = 'douyin.com/video/' + merge_data.iloc[i]['AwemeId']\n",
    "    video_content = merge_data.iloc[i]['视频文案']\n",
    "    video_time_seconds = merge_data.iloc[i]['视频时长']\n",
    "    video_time = seconds_to_time(video_time_seconds)\n",
    "    # 品牌\n",
    "    if pinpai not in pinpai_list:\n",
    "        pinpai_list.append(pinpai)\n",
    "        document.add_heading(pinpai, level=1)\n",
    "\n",
    "    # 视频标题\n",
    "    if title not in title_list:\n",
    "        title_list.append(title)\n",
    "        document.add_heading(title, level=2)\n",
    "\n",
    "    # 其余项\n",
    "    document.add_paragraph(f'达人名称：{BloggerName}')\n",
    "    # 超链接视频地址\n",
    "    v_a = document.add_paragraph('视频地址：')\n",
    "    run = v_a.add_run(f'{video_address}')\n",
    "    hyperlink = docx.oxml.shared.OxmlElement(\"w:hyperlink\")\n",
    "    hyperlink.set(docx.oxml.ns.qn(\"w:anchor\"), '微软雅黑')\n",
    "    run._r.append(hyperlink)\n",
    "\n",
    "    document.add_paragraph(f'视频时长：{video_time}')\n",
    "    document.add_paragraph(video_content)\n",
    "\n",
    "document.save('demo.docx')\n",
    "# print(pinpai_list)\n"
   ]
  },
  {
   "cell_type": "code",
   "execution_count": null,
   "metadata": {},
   "outputs": [],
   "source": []
  }
 ],
 "metadata": {
  "kernelspec": {
   "display_name": "base",
   "language": "python",
   "name": "python3"
  },
  "language_info": {
   "codemirror_mode": {
    "name": "ipython",
    "version": 3
   },
   "file_extension": ".py",
   "mimetype": "text/x-python",
   "name": "python",
   "nbconvert_exporter": "python",
   "pygments_lexer": "ipython3",
   "version": "3.8.8"
  }
 },
 "nbformat": 4,
 "nbformat_minor": 2
}
